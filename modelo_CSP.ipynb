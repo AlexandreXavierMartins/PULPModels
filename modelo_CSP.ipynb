{
  "nbformat": 4,
  "nbformat_minor": 0,
  "metadata": {
    "colab": {
      "provenance": [],
      "authorship_tag": "ABX9TyO8cqkIRThPdVfPfylDGU9H",
      "include_colab_link": true
    },
    "kernelspec": {
      "name": "python3",
      "display_name": "Python 3"
    },
    "language_info": {
      "name": "python"
    }
  },
  "cells": [
    {
      "cell_type": "markdown",
      "metadata": {
        "id": "view-in-github",
        "colab_type": "text"
      },
      "source": [
        "<a href=\"https://colab.research.google.com/github/AlexandreXavierMartins/PulpModels/blob/main/modelo_CSP.ipynb\" target=\"_parent\"><img src=\"https://colab.research.google.com/assets/colab-badge.svg\" alt=\"Open In Colab\"/></a>"
      ]
    },
    {
      "cell_type": "code",
      "execution_count": 1,
      "metadata": {
        "colab": {
          "base_uri": "https://localhost:8080/"
        },
        "id": "6Y1bWphrZOz5",
        "outputId": "0d6390dd-a995-4a42-d9bc-ed23a8ceb76c"
      },
      "outputs": [
        {
          "output_type": "stream",
          "name": "stdout",
          "text": [
            "Looking in indexes: https://pypi.org/simple, https://us-python.pkg.dev/colab-wheels/public/simple/\n",
            "Collecting gurobipy\n",
            "  Downloading gurobipy-9.5.2-cp37-cp37m-manylinux2014_x86_64.whl (11.5 MB)\n",
            "\u001b[K     |████████████████████████████████| 11.5 MB 27.0 MB/s \n",
            "\u001b[?25hInstalling collected packages: gurobipy\n",
            "Successfully installed gurobipy-9.5.2\n"
          ]
        }
      ],
      "source": [
        "!pip install gurobipy"
      ]
    },
    {
      "cell_type": "code",
      "source": [
        "import gurobipy as grb\n",
        "\n",
        "def modeloPcut(tam,lar,D):\n",
        "  \n",
        "  I = range(len(tam))\n",
        "  K = range(len(lar))\n",
        "\n",
        "  # Criação do objeto modelo\n",
        "  modelo  = grb.Model('pcut')\n",
        "\n",
        "  #criação de variáveis\n",
        "  x = {} # x é um dicionário\n",
        "  for i in I:\n",
        "    for k in K:\n",
        "      x[i,k] = modelo.addVar(name = f'x[{i},{k}]',vtype= grb.GRB.INTEGER)\n",
        "\n",
        "  y = {}\n",
        "  for k in K:\n",
        "    y[k] = modelo.addVar(name = f'y[{k}]',vtype= grb.GRB.BINARY)\n",
        "\n",
        "  #atualização do modelo\n",
        "  modelo.update()\n",
        "\n",
        "  #Restrições\n",
        "  #demanda\n",
        "  for i in I:\n",
        "    modelo.addConstr(grb.quicksum(x[i,k] for k in K) == D[i])\n",
        "\n",
        "  #oferta\n",
        "  for k in K:\n",
        "    modelo.addConstr(grb.quicksum(tam[i]*x[i,k] for i in I) <= lar[k]*y[k])\n",
        "\n",
        "  #objetivo\n",
        "  Qxy = grb.quicksum(y[k] for k in K)\n",
        "\n",
        "  modelo.setObjective(Qxy, sense=grb.GRB.MINIMIZE)\n",
        "\n",
        "  return modelo\n",
        "\n",
        "tamanho = [1380, 1520, 1560, 1710, 1820, 1880, 1930, 2000, 2050, 2100, 2140, 2150, 2200]\n",
        "demanda = [22, 25, 12, 14, 18, 18, 20, 10, 12, 14, 16, 18, 20]\n",
        "print(len(tamanho),len(demanda))\n",
        "largura = [5600]*80\n",
        "\n",
        "m =  modeloPcut(tamanho, largura, demanda)\n",
        "m.setParam('Heuristics', 0)\n",
        "m.optimize()\n"
      ],
      "metadata": {
        "id": "Gy5dvs6AZVcL"
      },
      "execution_count": null,
      "outputs": []
    }
  ]
}