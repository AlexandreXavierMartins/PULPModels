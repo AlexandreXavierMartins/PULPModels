{
  "nbformat": 4,
  "nbformat_minor": 0,
  "metadata": {
    "colab": {
      "name": "Ligas.ipynb",
      "provenance": [],
      "authorship_tag": "ABX9TyPH+3aQG8WoxBoiGUQp3Spn",
      "include_colab_link": true
    },
    "kernelspec": {
      "name": "python3",
      "display_name": "Python 3"
    },
    "language_info": {
      "name": "python"
    }
  },
  "cells": [
    {
      "cell_type": "markdown",
      "metadata": {
        "id": "view-in-github",
        "colab_type": "text"
      },
      "source": [
        "<a href=\"https://colab.research.google.com/github/AlexandreXavierMartins/PulpModels/blob/main/Ligas.ipynb\" target=\"_parent\"><img src=\"https://colab.research.google.com/assets/colab-badge.svg\" alt=\"Open In Colab\"/></a>"
      ]
    },
    {
      "cell_type": "markdown",
      "metadata": {
        "id": "ytM-ysViccyT"
      },
      "source": [
        "Primeiro devemos instalar o PULP"
      ]
    },
    {
      "cell_type": "code",
      "metadata": {
        "id": "RAPuhayMcdnt"
      },
      "source": [
        "!pip install pulp"
      ],
      "execution_count": null,
      "outputs": []
    },
    {
      "cell_type": "markdown",
      "metadata": {
        "id": "vP-PwXdmcmrM"
      },
      "source": [
        "Modelo das Ligas Metálicas\n",
        "\n",
        "Dados do Problema\n",
        "\n",
        "\"\"\"\n",
        " Cobre\t&       0,50    &  \t 0,20\t  &    16 ton        \\\\\n",
        " Zinco\t&       0,25    &\t 0,30     &\t   11 ton        \\\\\n",
        "Chumbo\t&       0,25    &\t 0,50     &\t   15 ton        \n",
        "\n",
        "\n",
        "Lucro   & 3.000         &\t5.000     &                 \n",
        "\"\"\"\n"
      ]
    },
    {
      "cell_type": "code",
      "metadata": {
        "colab": {
          "base_uri": "https://localhost:8080/"
        },
        "id": "NIRQx6H1dN8f",
        "outputId": "0d5c54df-bec0-4439-abd8-373a2421bef6"
      },
      "source": [
        "import pulp as pl\n",
        "\n",
        "model = pl.LpProblem('Ligas', pl.LpMaximize)\n",
        "\n",
        "#Variáveis de decisão\n",
        "x1 = pl.LpVariable('LAR')\n",
        "x2 = pl.LpVariable('LBR')\n",
        "#Restrições\n",
        "model += 0.5*x1 + 0.2*x2 <= 16\n",
        "model += 0.25*x1 + 0.3*x2 <= 11\n",
        "model += 0.25*x1 + 0.5*x2 <= 15\n",
        "#Função Objetivo\n",
        "model += 3000*x1 + 5000*x2\n",
        "\n",
        "status = model.solve()\n",
        "\n",
        "valx1 = pl.value(x1)\n",
        "valx2 = pl.value(x2)\n",
        "\n",
        "print(\"x1 = \", valx1)\n",
        "print(\"x2 = \", valx2)\n",
        "\n",
        "\n"
      ],
      "execution_count": 7,
      "outputs": [
        {
          "output_type": "stream",
          "text": [
            "x1 =  20.0\n",
            "x2 =  20.0\n"
          ],
          "name": "stdout"
        }
      ]
    }
  ]
}