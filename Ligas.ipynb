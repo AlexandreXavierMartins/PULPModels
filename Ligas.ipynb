{
  "nbformat": 4,
  "nbformat_minor": 0,
  "metadata": {
    "colab": {
      "name": "Ligas.ipynb",
      "provenance": [],
      "collapsed_sections": [],
      "authorship_tag": "ABX9TyMVrCet+5qBlwXUqD6TyU6h",
      "include_colab_link": true
    },
    "kernelspec": {
      "name": "python3",
      "display_name": "Python 3"
    },
    "language_info": {
      "name": "python"
    }
  },
  "cells": [
    {
      "cell_type": "markdown",
      "metadata": {
        "id": "view-in-github",
        "colab_type": "text"
      },
      "source": [
        "<a href=\"https://colab.research.google.com/github/AlexandreXavierMartins/PulpModels/blob/main/Ligas.ipynb\" target=\"_parent\"><img src=\"https://colab.research.google.com/assets/colab-badge.svg\" alt=\"Open In Colab\"/></a>"
      ]
    },
    {
      "cell_type": "markdown",
      "metadata": {
        "id": "ytM-ysViccyT"
      },
      "source": [
        "Primeiro devemos instalar o PULP"
      ]
    },
    {
      "cell_type": "code",
      "metadata": {
        "id": "RAPuhayMcdnt"
      },
      "source": [
        "!pip install pulp"
      ],
      "execution_count": null,
      "outputs": []
    },
    {
      "cell_type": "markdown",
      "metadata": {
        "id": "vP-PwXdmcmrM"
      },
      "source": [
        "Modelo das Ligas Metálicas\n",
        "\n",
        "Dados do Problema\n",
        "\n",
        "\"\"\"\n",
        " Cobre\t&       0,50    &  \t 0,20\t  &    16 ton        \\\\\n",
        " Zinco\t&       0,25    &\t 0,30     &\t   11 ton        \\\\\n",
        "Chumbo\t&       0,25    &\t 0,50     &\t   15 ton        \n",
        "\n",
        "\n",
        "Lucro   & 3.000         &\t5.000     &                 \n",
        "\"\"\"\n"
      ]
    },
    {
      "cell_type": "code",
      "metadata": {
        "colab": {
          "base_uri": "https://localhost:8080/"
        },
        "id": "NIRQx6H1dN8f",
        "outputId": "30325aa6-32d7-4523-ae3e-6042037abb4e"
      },
      "source": [
        "import pulp as pl\n",
        "\n",
        "model = pl.LpProblem('Ligas', pl.LpMaximize)\n",
        "\n",
        "#Variáveis de decisão\n",
        "x1 = pl.LpVariable('LAR', lowBound = 0)\n",
        "x2 = pl.LpVariable('LBR', lowBound = 0)\n",
        "#Restrições\n",
        "model += 0.5*x1 + 0.2*x2 <= 16\n",
        "model += 0.25*x1 + 0.3*x2 <= 11\n",
        "model += 0.25*x1 + 0.5*x2 <= 15\n",
        "#Função Objetivo\n",
        "model += 3000*x1 + 5000*x2\n",
        "\n",
        "#display(model) #Apresenta o modelo na tela\n",
        "\n",
        "status = model.solve()\n",
        "\n",
        "fo = pl.value(model.objective)\n",
        "val1 = pl.value(x1)\n",
        "val2 = pl.value(x2)\n",
        "\n",
        "print(\"Lucro máximo = \", fo)\n",
        "print(\"x1 = \", val1)\n",
        "print(\"x2 = \", val2)\n",
        "\n",
        "\n"
      ],
      "execution_count": 11,
      "outputs": [
        {
          "output_type": "stream",
          "text": [
            "Lucro máximo =  160000.0\n",
            "x1 =  20.0\n",
            "x2 =  20.0\n"
          ],
          "name": "stdout"
        }
      ]
    }
  ]
}