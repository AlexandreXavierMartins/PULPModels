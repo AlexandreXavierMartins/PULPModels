{
  "nbformat": 4,
  "nbformat_minor": 0,
  "metadata": {
    "colab": {
      "provenance": [],
      "authorship_tag": "ABX9TyM1e9dsHlg3jo17Gk4lntjL",
      "include_colab_link": true
    },
    "kernelspec": {
      "name": "python3",
      "display_name": "Python 3"
    },
    "language_info": {
      "name": "python"
    }
  },
  "cells": [
    {
      "cell_type": "markdown",
      "metadata": {
        "id": "view-in-github",
        "colab_type": "text"
      },
      "source": [
        "<a href=\"https://colab.research.google.com/github/AlexandreXavierMartins/PulpModels/blob/main/Exemplo_1.ipynb\" target=\"_parent\"><img src=\"https://colab.research.google.com/assets/colab-badge.svg\" alt=\"Open In Colab\"/></a>"
      ]
    },
    {
      "cell_type": "code",
      "execution_count": 1,
      "metadata": {
        "colab": {
          "base_uri": "https://localhost:8080/"
        },
        "id": "JjFUYbDQgmY7",
        "outputId": "872151a9-d140-4e04-ecde-495b51cb29e6"
      },
      "outputs": [
        {
          "output_type": "stream",
          "name": "stdout",
          "text": [
            "Collecting gurobipy\n",
            "  Downloading gurobipy-10.0.3-cp310-cp310-manylinux2014_x86_64.whl (12.7 MB)\n",
            "\u001b[2K     \u001b[90m━━━━━━━━━━━━━━━━━━━━━━━━━━━━━━━━━━━━━━━━\u001b[0m \u001b[32m12.7/12.7 MB\u001b[0m \u001b[31m29.8 MB/s\u001b[0m eta \u001b[36m0:00:00\u001b[0m\n",
            "\u001b[?25hInstalling collected packages: gurobipy\n",
            "Successfully installed gurobipy-10.0.3\n"
          ]
        }
      ],
      "source": [
        "!pip install gurobipy"
      ]
    },
    {
      "cell_type": "code",
      "source": [
        "import gurobipy as grb\n",
        "\n",
        "# Objeto modelo\n",
        "modelo  = grb.Model('Exemplo')\n",
        "\n",
        "# Variaveis\n",
        "x1 = modelo.addVar(name = 'x1',vtype= grb.GRB.CONTINUOUS, lb=0)\n",
        "x2 = modelo.addVar(name = 'x2',vtype= grb.GRB.CONTINUOUS, lb=0)\n",
        "\n",
        "# Objetivo\n",
        "Qx = 3000*x1 + 5000*x2\n",
        "modelo.setObjective(Qx, sense=grb.GRB.MAXIMIZE)\n",
        "\n",
        "# Restricoes\n",
        "r1 = modelo.addConstr(0.5*x1 + 0.2*x2 <=16)\n",
        "r2 = modelo.addConstr(0.25*x1 + 0.3*x2 <=11)\n",
        "r3 = modelo.addConstr(0.25*x1 + 0.5*x2 <=15)\n",
        "\n",
        "# Execucao\n",
        "modelo.optimize()\n",
        "\n",
        "# Resultado\n",
        "print(\"---------------------------------------------\")\n",
        "print(f\"Valor da funcao objetivo: {modelo.objVal}\")\n",
        "print(f\"Valor ótimo para as variaveis: x1 = {x1.X}, x2 = {x2.X}\")\n"
      ],
      "metadata": {
        "colab": {
          "base_uri": "https://localhost:8080/"
        },
        "id": "Xl-W6Rkmg3tM",
        "outputId": "0e3b2e58-3f3f-476a-efc9-04be57e49f70"
      },
      "execution_count": 12,
      "outputs": [
        {
          "output_type": "stream",
          "name": "stdout",
          "text": [
            "Gurobi Optimizer version 10.0.3 build v10.0.3rc0 (linux64)\n",
            "\n",
            "CPU model: Intel(R) Xeon(R) CPU @ 2.20GHz, instruction set [SSE2|AVX|AVX2]\n",
            "Thread count: 1 physical cores, 2 logical processors, using up to 2 threads\n",
            "\n",
            "Optimize a model with 3 rows, 2 columns and 6 nonzeros\n",
            "Model fingerprint: 0xd01ab3d0\n",
            "Coefficient statistics:\n",
            "  Matrix range     [2e-01, 5e-01]\n",
            "  Objective range  [3e+03, 5e+03]\n",
            "  Bounds range     [0e+00, 0e+00]\n",
            "  RHS range        [1e+01, 2e+01]\n",
            "Presolve time: 0.02s\n",
            "Presolved: 3 rows, 2 columns, 6 nonzeros\n",
            "\n",
            "Iteration    Objective       Primal Inf.    Dual Inf.      Time\n",
            "       0    8.0000000e+33   4.000000e+30   8.000000e+03      0s\n",
            "       3    1.6000000e+05   0.000000e+00   0.000000e+00      0s\n",
            "\n",
            "Solved in 3 iterations and 0.03 seconds (0.00 work units)\n",
            "Optimal objective  1.600000000e+05\n",
            "---------------------------------------------\n",
            "Status do solver: 2\n",
            "Valor da funcao objetivo: 160000.0\n",
            "Valor ótimo para as variaveis: x1 = 20.0, x2 = 20.0\n"
          ]
        }
      ]
    }
  ]
}